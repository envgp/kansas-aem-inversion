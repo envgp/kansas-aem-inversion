{
 "cells": [
  {
   "cell_type": "code",
   "execution_count": 1,
   "id": "17a5fbb7-e5c5-48be-9d15-110c8920a98f",
   "metadata": {
    "tags": []
   },
   "outputs": [
    {
     "name": "stdout",
     "output_type": "stream",
     "text": [
      "header [General] parsed\n",
      "header [Channel1] parsed\n",
      "header [Channel2] parsed\n"
     ]
    }
   ],
   "source": [
    "import numpy as np\n",
    "import pandas as pd\n",
    "import simpeg\n",
    "import libaarhusxyz\n",
    "import dill\n",
    "\n",
    "work_dir ='../data/'\n",
    "df_em_inv = pd.read_parquet(work_dir+\"gmd_4_inv.parquet\")\n",
    "df_em_syn = pd.read_parquet(work_dir+\"gmd_4_syn.parquet\")\n",
    "meta_data_dict = dill.load(open(work_dir+\"gmd_4_meta_data.pik\", \"rb\"))\n",
    "\n",
    "i_start_ch1 = 0\n",
    "i_start_ch2 = 0\n",
    "\n",
    "line = df_em_inv['line_no'].values[:]\n",
    "topography = df_em_inv[['utmx', 'utmy', 'elevation']].values[:, :]\n",
    "source_heights = df_em_inv['altitude_[m]'].values[:]\n",
    "data_ch1 = df_em_inv[meta_data_dict['ch1_names']].values[:, i_start_ch1:]\n",
    "data_ch2 = df_em_inv[meta_data_dict['ch2_names']].values[:, i_start_ch2:]\n",
    "data_std_ch1 = df_em_inv[meta_data_dict['std_ch1_names']].values[:, i_start_ch1:] - 1\n",
    "data_std_ch2 = df_em_inv[meta_data_dict['std_ch2_names']].values[:, i_start_ch2:] - 1\n",
    "n_sounding = len(line)\n",
    "times_ch1 = meta_data_dict['ch1_times'][i_start_ch1:]\n",
    "times_ch2 = meta_data_dict['ch2_times'][i_start_ch2:]\n",
    "\n",
    "system = libaarhusxyz.parse_gex(\"../data/gex/20240724_20078_Kansas_AGF_304_XYZ.GEX\")\n",
    "area = system['General']['TxLoopArea']\n",
    "waveform_ch2 = system['General']['WaveformHMPoint']\n",
    "waveform_ch1 = system['General']['WaveformLMPoint']\n",
    "time_input_currents_ch2 = waveform_ch2[:,0]\n",
    "input_currents_ch2 = waveform_ch2[:,1]\n",
    "time_input_currents_ch1 = waveform_ch1[:,0]\n",
    "input_currents_ch1 = waveform_ch1[:,1]\n",
    "\n",
    "thickness = np.array([ 2.   ,  2.129,  2.267,  2.413,  2.569,  2.736,  2.912,  3.101,\n",
    "        3.301,  3.514,  3.741,  3.983,  4.241,  4.515,  4.807,  5.117,\n",
    "        5.448,  5.8  ,  6.175,  6.574,  6.999,  7.451,  7.933,  8.446,\n",
    "        8.992,  9.573, 10.19 , 10.85 , 11.55 , 12.3  , 13.09 , 13.94 ,\n",
    "       14.84 , 15.8  , 16.82 , 17.91 , 19.06 , 20.3  , 21.61 ])\n",
    "\n",
    "input_data_dict = {\n",
    "    \"topography\": topography,\n",
    "    \"source_heights\": source_heights,\n",
    "    \"thickness\": thickness,\n",
    "    \"time_input_currents_ch2\":time_input_currents_ch2,\n",
    "    \"time_input_currents_ch1\":time_input_currents_ch1,\n",
    "    \"input_currents_ch2\":input_currents_ch2,\n",
    "    \"input_currents_ch1\":input_currents_ch1,    \n",
    "    \"times_ch1\":times_ch1,    \n",
    "    \"times_ch2\":times_ch2,      \n",
    "    \"bw_cutoff_frequency_ch1\":system['Channel1']['TiBLowPassFilter'][1],\n",
    "    \"bw_power_ch1\":system['Channel1']['TiBLowPassFilter'][0],\n",
    "    \"bw_cutoff_frequency_ch2\":system['Channel2']['TiBLowPassFilter'][1],\n",
    "    \"bw_power_ch2\":system['Channel2']['TiBLowPassFilter'][0],    \n",
    "    \"lp_cutoff_frequency_ch1\": system['General']['RxCoilLPFilter'][1],\n",
    "    \"lp_power_ch1\": system['General']['RxCoilLPFilter'][0],    \n",
    "    \"lp_cutoff_frequency_ch2\": system['General']['RxCoilLPFilter'][1],\n",
    "    \"lp_power_ch2\": system['General']['RxCoilLPFilter'][0],        \n",
    "    \"rx_coil_position\": system['General']['RxCoilPosition'],\n",
    "    \"data_ch1\":data_ch1,\n",
    "    \"data_ch2\":data_ch2,\n",
    "    \"data_std_ch1\":data_std_ch1,\n",
    "    \"data_std_ch2\":data_std_ch2,\n",
    "    \n",
    "}\n",
    "\n",
    "dill.dump(input_data_dict, open(\"input_gmd_4.pik\", \"wb\"))"
   ]
  }
 ],
 "metadata": {
  "kernelspec": {
   "display_name": "Python 3 (ipykernel)",
   "language": "python",
   "name": "python3"
  },
  "language_info": {
   "codemirror_mode": {
    "name": "ipython",
    "version": 3
   },
   "file_extension": ".py",
   "mimetype": "text/x-python",
   "name": "python",
   "nbconvert_exporter": "python",
   "pygments_lexer": "ipython3",
   "version": "3.11.12"
  }
 },
 "nbformat": 4,
 "nbformat_minor": 5
}
